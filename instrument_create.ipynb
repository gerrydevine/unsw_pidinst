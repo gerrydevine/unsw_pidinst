{
 "cells": [
  {
   "cell_type": "markdown",
   "id": "929145f4-ccad-4d82-acce-cb2ccb3af600",
   "metadata": {},
   "source": [
    "# UNSW Instrument PID Generator (PIDINst)"
   ]
  },
  {
   "cell_type": "markdown",
   "id": "215fa0c9-ccca-4bdb-8f7a-e178a9654dc3",
   "metadata": {},
   "source": [
    "### Imports"
   ]
  },
  {
   "cell_type": "code",
   "execution_count": 1,
   "id": "137f3478-fd8b-4669-84ca-4a4d7f4ca5f0",
   "metadata": {},
   "outputs": [],
   "source": [
    "import random\n",
    "from lorem_text import lorem\n",
    "from string import ascii_uppercase\n",
    "from unsw_pidinst.instrument import Identifier, Instrument, Owner, OwnerIdentifier, Manufacturer, ManufacturerIdentifier, Model, ModelIdentifier, RelatedIdentifier, InstrumentType, InstrumentTypeIdentifier "
   ]
  },
  {
   "cell_type": "markdown",
   "id": "1cf215e0-7a57-455e-b7ac-78a01e9b2d40",
   "metadata": {},
   "source": [
    "### Create base Instrument instance"
   ]
  },
  {
   "cell_type": "code",
   "execution_count": 2,
   "id": "33c72321-6d93-4086-9f47-1537eb6643cb",
   "metadata": {},
   "outputs": [],
   "source": [
    "random_name = ''.join(random.choice(ascii_uppercase) for i in range(5))\n",
    "instrument_1 = Instrument(name=f\"Instrument {random_name}\")"
   ]
  },
  {
   "cell_type": "markdown",
   "id": "38748855-9b3c-4beb-a31b-2eebcdcbe7d8",
   "metadata": {},
   "source": [
    "### Print Name and Local ID"
   ]
  },
  {
   "cell_type": "code",
   "execution_count": 3,
   "id": "1bc3dd92-fba0-45a1-8599-39f11f94235f",
   "metadata": {},
   "outputs": [
    {
     "name": "stdout",
     "output_type": "stream",
     "text": [
      "Instrument Name = Instrument XKAZQ\n",
      "Instrument Local ID = b0bc128d-5127-4bde-be5e-58e371ce0ab2\n"
     ]
    }
   ],
   "source": [
    "print(f\"Instrument Name = {instrument_1.name}\")\n",
    "print(f\"Instrument Local ID = {instrument_1.local_id}\")"
   ]
  },
  {
   "cell_type": "markdown",
   "id": "16e8146d-9f03-4c58-ae8e-9ce35f67f3a5",
   "metadata": {},
   "source": [
    "### Check validity"
   ]
  },
  {
   "cell_type": "code",
   "execution_count": 4,
   "id": "1fcc3f12-1126-4c14-972c-2900b941d97a",
   "metadata": {},
   "outputs": [
    {
     "name": "stdout",
     "output_type": "stream",
     "text": [
      "Valid for DOI: False\n",
      "Valid PIDInst: False\n"
     ]
    }
   ],
   "source": [
    "print(f'Valid for DOI: {instrument_1.is_valid_for_doi()}')\n",
    "print(f'Valid PIDInst: {instrument_1.is_valid_pidinst()}')"
   ]
  },
  {
   "cell_type": "code",
   "execution_count": 5,
   "id": "6ba4d93e-e9e4-4f51-9ca5-75477b8b5be1",
   "metadata": {},
   "outputs": [],
   "source": [
    "# Provide identifier information and append to instrument\n",
    "# identifier = Identifier(identifier_value=\"10.1000/ABC123\", identifier_type=\"DOI\")\n",
    "# instrument_1.identifier = identifier"
   ]
  },
  {
   "cell_type": "markdown",
   "id": "050d31c5-f315-4e51-a216-8a60b17d30a2",
   "metadata": {},
   "source": [
    "### Provide Owner information and append to instrument"
   ]
  },
  {
   "cell_type": "code",
   "execution_count": 6,
   "id": "95c14958-bb57-43bf-964a-9b267022cd34",
   "metadata": {},
   "outputs": [],
   "source": [
    "owner_1 = Owner(owner_name=\"Gerry Devine\", owner_contact=\"gerry.devine@unsw.edu.au\", owner_type=\"ContactPerson\")\n",
    "owner_identifier_1 = OwnerIdentifier(owner_identifier_value=\"0000-0002-0074-112X\", owner_identifier_type='ORCID') \n",
    "owner_1.owner_identifier = owner_identifier_1\n",
    "instrument_1.append_owner(owner_1)\n",
    "\n",
    "owner_2 = Owner(owner_name=\"ERU, Mark Wainwright Analytical Centre, UNSW\", owner_contact=\"emu@unsw.edu.au\", owner_type=\"HostingInstitution\")\n",
    "owner_identifier_2 = OwnerIdentifier(owner_identifier_value=\"03r8z3t63\", owner_identifier_type='ROR') \n",
    "owner_2.owner_identifier = owner_identifier_2\n",
    "instrument_1.append_owner(owner_2)"
   ]
  },
  {
   "cell_type": "markdown",
   "id": "407f2198-e50b-49e3-b9d2-c88172a0d80e",
   "metadata": {},
   "source": [
    "### Provide Manufacturer information and append to instrument"
   ]
  },
  {
   "cell_type": "code",
   "execution_count": 7,
   "id": "8efded66-477a-4470-9d8d-a19b3c6655b3",
   "metadata": {},
   "outputs": [],
   "source": [
    "manufacturer_1 = Manufacturer(manufacturer_name=\"Acme inc\", manufacturer_name_type=\"Organizational\")\n",
    "manufacturer_identifier_1 = ManufacturerIdentifier(manufacturer_identifier_value=\"https://www.acme.inc\", manufacturer_identifier_type='URL') \n",
    "manufacturer_1.manufacturer_identifier = manufacturer_identifier_1\n",
    "instrument_1.append_manufacturer(manufacturer_1)\n",
    "\n",
    "manufacturer_2 = Manufacturer(manufacturer_name=\"John Smith\", manufacturer_name_type=\"Personal\")\n",
    "manufacturer_identifier_2 = ManufacturerIdentifier(manufacturer_identifier_value=\"0000-0002-0074-112Y\", manufacturer_identifier_type='ORCID') \n",
    "manufacturer_2.manufacturer_identifier = manufacturer_identifier_2\n",
    "instrument_1.append_manufacturer(manufacturer_2)"
   ]
  },
  {
   "cell_type": "markdown",
   "id": "f060d0c8-b975-44eb-8351-21f96aee7bbf",
   "metadata": {},
   "source": [
    "### Provide Model information"
   ]
  },
  {
   "cell_type": "code",
   "execution_count": 8,
   "id": "3244ddd2-708c-4ec0-9211-d5e0e5986e7e",
   "metadata": {},
   "outputs": [],
   "source": [
    "model = Model(model_name=\"Model OPQ\")\n",
    "model_identifier = ModelIdentifier(model_identifier_value=\"https://model-opq.com\", model_identifier_type='URL') \n",
    "model.model_identifier = model_identifier\n",
    "instrument_1.model = model"
   ]
  },
  {
   "cell_type": "markdown",
   "id": "7dce313f-172a-43c4-83a6-d585b30b6a89",
   "metadata": {},
   "source": [
    "### Provide Instrument Type information and append to instrument"
   ]
  },
  {
   "cell_type": "code",
   "execution_count": 9,
   "id": "f11629cb-6283-4626-90ad-d77b4d9b1d19",
   "metadata": {},
   "outputs": [],
   "source": [
    "instrument_type_1 = InstrumentType(instrument_type_name=\"Mass Spectrometer\")\n",
    "instrument_type_identifier_1 = InstrumentTypeIdentifier(instrument_type_identifier_value=\"https://www.instrumenttypes.com/mass-spectrometer\", instrument_type_identifier_type='URL') \n",
    "instrument_type_1.instrument_type_identifier = instrument_type_identifier_1\n",
    "instrument_1.append_instrument_type(instrument_type_1)"
   ]
  },
  {
   "cell_type": "markdown",
   "id": "5f3686d3-26eb-47d1-83a4-5cec573d2016",
   "metadata": {},
   "source": [
    "### Provide Related Identifier information and append to instrument"
   ]
  },
  {
   "cell_type": "code",
   "execution_count": 10,
   "id": "99bb395e-325f-4563-bdd0-2859322fb7c9",
   "metadata": {},
   "outputs": [],
   "source": [
    "related_identifier_1 = RelatedIdentifier(related_identifier_value=\"https://doi.org/10.423423/535345\", related_identifier_type=\"DOI\", related_identifier_relation_type=\"IsDescribedBy\", related_identifier_name=\"Documentation Paper\")\n",
    "instrument_1.append_related_identifier(related_identifier_1)"
   ]
  },
  {
   "cell_type": "markdown",
   "id": "db4b3e68-5157-4aeb-aaf7-94e002511501",
   "metadata": {},
   "source": [
    "### Provide a description"
   ]
  },
  {
   "cell_type": "code",
   "execution_count": 11,
   "id": "463eb65e-daa3-4699-a590-5387d8d56db8",
   "metadata": {},
   "outputs": [],
   "source": [
    "instrument_1.description = f\"Instrument {random_name} is a ultrasonic scanner, used for scanning cells. {lorem.paragraph()}\""
   ]
  },
  {
   "cell_type": "markdown",
   "id": "a993bf3d-c0e6-4c09-ac8e-e64ed018ad57",
   "metadata": {},
   "source": [
    "### Generate an initial landing page (without DOI) "
   ]
  },
  {
   "cell_type": "code",
   "execution_count": 12,
   "id": "9a568e61-001f-45c5-9cf5-cb8899e53bbf",
   "metadata": {},
   "outputs": [],
   "source": [
    "instrument_1.landing_page = f\"https://gerrydevine.github.io/instrument-catalogue/instruments/{instrument_1.local_id}\"\n",
    "instrument_1.generate_webpage()"
   ]
  },
  {
   "cell_type": "markdown",
   "id": "93a1d2b6-065b-4c47-b074-f2eebca432fc",
   "metadata": {},
   "source": [
    "### Check validity"
   ]
  },
  {
   "cell_type": "code",
   "execution_count": 13,
   "id": "3403ff0b-7cfb-49e9-b611-9db66f10776a",
   "metadata": {},
   "outputs": [
    {
     "name": "stdout",
     "output_type": "stream",
     "text": [
      "Valid for DOI: True\n",
      "Valid PIDInst: False\n"
     ]
    }
   ],
   "source": [
    "print(f'Valid for DOI: {instrument_1.is_valid_for_doi()}')\n",
    "print(f'Valid PIDInst: {instrument_1.is_valid_pidinst()}')"
   ]
  },
  {
   "cell_type": "markdown",
   "id": "f89e2018-5d74-4ee9-a584-d8ce585f5233",
   "metadata": {},
   "source": [
    "### Allocate a DOI"
   ]
  },
  {
   "cell_type": "code",
   "execution_count": 14,
   "id": "e9371ef8-ee27-4f5b-b4ad-5fd849ac6a12",
   "metadata": {},
   "outputs": [],
   "source": [
    "instrument_1.allocate_doi()"
   ]
  },
  {
   "cell_type": "markdown",
   "id": "79c089de-1a42-4eb2-9adf-76e179509728",
   "metadata": {},
   "source": [
    "### Update landing page (with DOI) "
   ]
  },
  {
   "cell_type": "code",
   "execution_count": 15,
   "id": "8bd68faa-e350-4452-b22f-96f0ee870221",
   "metadata": {},
   "outputs": [],
   "source": [
    "instrument_1.landing_page = f\"https://gerrydevine.github.io/instrument-catalogue/instruments/{instrument_1.local_id}\"\n",
    "instrument_1.generate_webpage(use_github=True)"
   ]
  },
  {
   "cell_type": "markdown",
   "id": "9812dd2b-353d-408c-8126-24b5f201ec84",
   "metadata": {},
   "source": [
    "### Check validity"
   ]
  },
  {
   "cell_type": "code",
   "execution_count": 16,
   "id": "0ffd466f-1809-4b9e-bd2c-dd6cf646d3cb",
   "metadata": {},
   "outputs": [
    {
     "name": "stdout",
     "output_type": "stream",
     "text": [
      "Valid for DOI: False\n",
      "Valid PIDInst: True\n"
     ]
    }
   ],
   "source": [
    "print(f'Valid for DOI: {instrument_1.is_valid_for_doi()}')\n",
    "print(f'Valid PIDInst: {instrument_1.is_valid_pidinst()}')"
   ]
  }
 ],
 "metadata": {
  "kernelspec": {
   "display_name": "Python 3 (ipykernel)",
   "language": "python",
   "name": "python3"
  },
  "language_info": {
   "codemirror_mode": {
    "name": "ipython",
    "version": 3
   },
   "file_extension": ".py",
   "mimetype": "text/x-python",
   "name": "python",
   "nbconvert_exporter": "python",
   "pygments_lexer": "ipython3",
   "version": "3.12.8"
  }
 },
 "nbformat": 4,
 "nbformat_minor": 5
}
